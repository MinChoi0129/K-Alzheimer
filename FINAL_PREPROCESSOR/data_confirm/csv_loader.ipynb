{
 "cells": [
  {
   "cell_type": "code",
   "execution_count": 2,
   "metadata": {},
   "outputs": [],
   "source": [
    "import pandas as pd"
   ]
  },
  {
   "cell_type": "code",
   "execution_count": 3,
   "metadata": {},
   "outputs": [],
   "source": [
    "csv_path = \"/home/workspace/K-Alzheimer/ALL_DATASETS/dataset_korean_raw/MRI_dataset_final.csv\""
   ]
  },
  {
   "cell_type": "code",
   "execution_count": 4,
   "metadata": {},
   "outputs": [],
   "source": [
    "csv = pd.read_csv(csv_path, encoding=\"cp949\")"
   ]
  },
  {
   "cell_type": "code",
   "execution_count": 5,
   "metadata": {},
   "outputs": [],
   "source": [
    "target = csv[csv[\"MRI convert 익명코드\"] == \"subject_002\"]"
   ]
  },
  {
   "cell_type": "code",
   "execution_count": null,
   "metadata": {},
   "outputs": [],
   "source": [
    "나이 = int(target[\"현재나이\"].values[0])\n",
    "성별 = target[\"성별\"].values[0]\n",
    "print(type(나이), 나이)\n",
    "print(type(성별), 성별)"
   ]
  },
  {
   "cell_type": "code",
   "execution_count": null,
   "metadata": {},
   "outputs": [],
   "source": [
    "모든나이 = [*sorted(list((csv[\"현재나이\"])))]\n",
    "모든성별 = [*sorted(list((csv[\"성별\"])))]\n",
    "\n",
    "\n",
    "from collections import Counter\n",
    "\n",
    "age_counts = Counter(모든나이)\n",
    "\n",
    "ages_sorted = sorted(age_counts.keys())\n",
    "counts_sorted = [age_counts[a] for a in ages_sorted]\n",
    "\n",
    "import matplotlib.pyplot as plt\n",
    "plt.figure(figsize=(8,4))\n",
    "plt.bar(ages_sorted, counts_sorted)\n",
    "plt.xlabel(\"Age\")\n",
    "plt.ylabel(\"Counts\")\n",
    "plt.xticks(ages_sorted, rotation=-90)\n",
    "plt.tight_layout()\n",
    "plt.show()\n",
    "\n",
    "for i, age in enumerate(ages_sorted):\n",
    "    print(age, \":\", counts_sorted[i], end = \" | \")\n",
    "    if i % 5 == 0:\n",
    "        print()\n",
    "\n",
    "print()\n",
    "print(len(모든나이), min(모든나이), max(모든나이))"
   ]
  },
  {
   "cell_type": "code",
   "execution_count": null,
   "metadata": {},
   "outputs": [],
   "source": []
  },
  {
   "cell_type": "code",
   "execution_count": null,
   "metadata": {},
   "outputs": [],
   "source": []
  },
  {
   "cell_type": "code",
   "execution_count": null,
   "metadata": {},
   "outputs": [],
   "source": []
  }
 ],
 "metadata": {
  "kernelspec": {
   "display_name": "alz",
   "language": "python",
   "name": "python3"
  },
  "language_info": {
   "codemirror_mode": {
    "name": "ipython",
    "version": 3
   },
   "file_extension": ".py",
   "mimetype": "text/x-python",
   "name": "python",
   "nbconvert_exporter": "python",
   "pygments_lexer": "ipython3",
   "version": "3.8.20"
  }
 },
 "nbformat": 4,
 "nbformat_minor": 2
}
