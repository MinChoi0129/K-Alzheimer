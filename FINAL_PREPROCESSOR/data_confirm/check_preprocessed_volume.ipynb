{
 "cells": [
  {
   "cell_type": "code",
   "execution_count": 2,
   "metadata": {},
   "outputs": [],
   "source": [
    "import numpy as np\n",
    "import matplotlib.pyplot as plt\n",
    "import cv2"
   ]
  },
  {
   "cell_type": "code",
   "execution_count": 3,
   "metadata": {},
   "outputs": [],
   "source": [
    "path1 = \"/home/workspace/K-Alzheimer/ALL_DATASETS/dataset_korean_processed/AD/subject_002_t1.npz\"\n",
    "path2 = \"/home/workspace/K-Alzheimer/ALL_DATASETS/dataset_adni_segmented/AD/I7054.npz\"\n",
    "npz = np.load(path2)"
   ]
  },
  {
   "cell_type": "code",
   "execution_count": null,
   "metadata": {},
   "outputs": [],
   "source": [
    "target_volume = npz[\"volume\"]\n",
    "\n",
    "frame0, frame1, frame2 = target_volume[60], target_volume[112], target_volume[159]\n",
    "\n",
    "fig, axes = plt.subplots(1, 3, figsize=(12, 6))\n",
    "\n",
    "for i, frame in enumerate([frame0, frame1, frame2]):\n",
    "    print(frame.shape, np.min(frame), np.max(frame))\n",
    "    im = axes[i].imshow(frame, cmap=\"gray\")\n",
    "    plt.colorbar(im)\n",
    "\n",
    "plt.tight_layout()\n",
    "plt.show()"
   ]
  },
  {
   "cell_type": "code",
   "execution_count": null,
   "metadata": {},
   "outputs": [],
   "source": [
    "import cv2\n",
    "\n",
    "for idx, data in enumerate([(96, 96 + 32, 1), (80, 80 + 64, 2), (64, 64 + 96, 2)]):\n",
    "    fps = 10\n",
    "    h, w = 224, 224\n",
    "    fourcc = cv2.VideoWriter_fourcc(*\"mp4v\")\n",
    "    out = cv2.VideoWriter(f\"output_{idx+1}mm_32_slices.mp4\", fourcc, fps, (w, h), isColor=False)\n",
    "\n",
    "    count = 0\n",
    "    for idx in range(*data):\n",
    "        count += 1\n",
    "        frame = target_volume[idx]\n",
    "        frame_uint8 = np.clip(frame, 0, 1) * 255 if frame.dtype == float else frame\n",
    "        frame_uint8 = frame_uint8.astype(np.uint8)\n",
    "        out.write(frame_uint8)\n",
    "\n",
    "    out.release()\n",
    "    print(\"saved\", count)"
   ]
  },
  {
   "cell_type": "code",
   "execution_count": null,
   "metadata": {},
   "outputs": [],
   "source": [
    "import os\n",
    "len(os.listdir(\"/home/workspace/K-Alzheimer/ALL_DATASETS/dataset_korean_raw/원시데이터/NC\"))"
   ]
  },
  {
   "cell_type": "code",
   "execution_count": null,
   "metadata": {},
   "outputs": [],
   "source": []
  },
  {
   "cell_type": "code",
   "execution_count": null,
   "metadata": {},
   "outputs": [],
   "source": []
  }
 ],
 "metadata": {
  "kernelspec": {
   "display_name": "alz",
   "language": "python",
   "name": "python3"
  },
  "language_info": {
   "codemirror_mode": {
    "name": "ipython",
    "version": 3
   },
   "file_extension": ".py",
   "mimetype": "text/x-python",
   "name": "python",
   "nbconvert_exporter": "python",
   "pygments_lexer": "ipython3",
   "version": "3.8.20"
  }
 },
 "nbformat": 4,
 "nbformat_minor": 2
}
